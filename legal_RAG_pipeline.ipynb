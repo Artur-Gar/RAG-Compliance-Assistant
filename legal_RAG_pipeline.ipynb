{
 "cells": [
  {
   "cell_type": "code",
   "execution_count": null,
   "metadata": {},
   "outputs": [],
   "source": [
    "import pandas as pd\n",
    "import numpy as np\n",
    "from tqdm.notebook import tqdm\n",
    "import yaml\n",
    "import os\n",
    "from docx import Document\n",
    "from nltk.tokenize import word_tokenize, sent_tokenize\n",
    "\n",
    "from langchain.chat_models.gigachat import GigaChat\n",
    "from langchain_community.embeddings import GigaChatEmbeddings\n",
    "\n",
    "from custom_modules.chunking_and_embeddings import GetEmbsNPY_Gigachat\n",
    "from custom_modules.qdrant_database import PostEmbsQdrant\n",
    "from custom_modules.retriever import Talk2DB\n",
    "\n",
    "#import nltk\n",
    "#nltk.download('punkt_tab')"
   ]
  },
  {
   "cell_type": "code",
   "execution_count": null,
   "metadata": {},
   "outputs": [],
   "source": [
    "## global variables $ configs\n",
    "config_path = r\"configs\\config.yml\"\n",
    "texts_path = r\"laws\"\n",
    "config_path = r\"configs\\config.yml\"\n",
    "\n",
    "with open(config_path) as fh:\n",
    "    read_config = yaml.load(fh, Loader=yaml.FullLoader)\n",
    "giga_embeder_kwargs = read_config['EMBDER_CONFIG']\n",
    "giga_chat_kwargs = read_config['LLM_CONFIG']"
   ]
  },
  {
   "cell_type": "markdown",
   "metadata": {},
   "source": [
    "### 0 Word documents upload"
   ]
  },
  {
   "cell_type": "code",
   "execution_count": null,
   "metadata": {},
   "outputs": [],
   "source": [
    "# Extract text content from .docx files\n",
    "def getText(filename):\n",
    "    doc = Document(filename)\n",
    "    fullText = []\n",
    "    for para in doc.paragraphs:\n",
    "        fullText.append(para.text)\n",
    "    return '\\n'.join(fullText)\n",
    "\n",
    "# Load all .docx files from the folder \n",
    "def read_txt_files(directory):\n",
    "    data = []\n",
    "    for filename in tqdm(os.listdir(directory)):\n",
    "        if filename.endswith('.docx'):\n",
    "            text_path = os.path.join(texts_path, filename)\n",
    "            text = getText(text_path)\n",
    "            data.append([filename, text])\n",
    "    return pd.DataFrame(data, columns=['filename', 'text'])"
   ]
  },
  {
   "cell_type": "code",
   "execution_count": null,
   "metadata": {},
   "outputs": [
    {
     "data": {
      "application/vnd.jupyter.widget-view+json": {
       "model_id": "150e781706f74a5a83a5d4edd8472d69",
       "version_major": 2,
       "version_minor": 0
      },
      "text/plain": [
       "  0%|          | 0/16 [00:00<?, ?it/s]"
      ]
     },
     "metadata": {},
     "output_type": "display_data"
    }
   ],
   "source": [
    "# Read .docx files from the directory and save them to a Parquet file\n",
    "df = read_txt_files(texts_path)\n",
    "\n",
    "df.to_parquet(os.path.join(r'data/','texts.parquet'))"
   ]
  },
  {
   "cell_type": "markdown",
   "metadata": {},
   "source": [
    "### 1 basic text analysis"
   ]
  },
  {
   "cell_type": "code",
   "execution_count": null,
   "metadata": {},
   "outputs": [
    {
     "name": "stdout",
     "output_type": "stream",
     "text": [
      "232\n"
     ]
    },
    {
     "data": {
      "text/plain": [
       "'В случае если выпуск (программа) облигаций дополнительно идентифицирован (идентифицирована) с использованием слов \"зеленые облигации\", \"социальные облигации\", \"облигации устойчивого развития\", \"облигации, связанные с целями устойчивого развития\", \"адаптационные облигации\" (далее соответственно - зеленые облигации, социальные облигации, облигации устойчивого развития, облигации, связанные с целями устойчивого развития, адаптационные облигации), информация о выпуске таких облигаций на этапе их размещения должна быть также раскрыта эмитентом в форме сообщения о проведении и результатах независимой внешней оценки соответствия выпуска (программы) указанных облигаций либо политики эмитента по использованию денежных средств, полученных от размещения указанных облигаций, или проекта (проектов), на финансирование (рефинансирование) которого (которых) будут использованы денежные средства, полученные от размещения указанных облигаций, принципам и стандартам финансовых инструментов, указанным в решении о выпуске облигаций (далее - сообщение о проведении и результатах независимой внешней оценки выпуска (программы) зеленых облигаций, социальных облигаций, облигаций устойчивого развития, облигаций, связанных с целями устойчивого развития, адаптационных облигаций, либо политики эмитента по использованию денежных средств, полученных от размещения указанных облигаций, или проекта (проектов), на финансирование (рефинансирование) которого (которых) будут использованы денежные средства, полученные от размещения указанных облигаций).'"
      ]
     },
     "execution_count": 3,
     "metadata": {},
     "output_type": "execute_result"
    }
   ],
   "source": [
    "# Analyze sentence lengths after additionally splitting by '\\n'\n",
    "df = pd.read_parquet('data/texts.parquet')\n",
    "text_data = df['text'].tolist()\n",
    "\n",
    "all_sentences = []\n",
    "lengths = []\n",
    "flattened_sentences = []\n",
    "for text, i in zip(text_data, range(len(text_data))):\n",
    "    flattened_sentences = []\n",
    "    sentences = sent_tokenize(text) \n",
    "    sentences = [flattened_sentences.extend(sent.split('\\n')) for sent in sentences] # делим по '\\n'\n",
    "    flattened_sentences = [sent for sent in flattened_sentences if len(sent)>0]\n",
    "    all_sentences.extend(flattened_sentences)\n",
    "    lengths.extend([len(word_tokenize(sentence)) for sentence in flattened_sentences])\n",
    "\n",
    "# The longest sentence\n",
    "print(max(lengths))\n",
    "all_sentences[np.argmax(lengths)]"
   ]
  },
  {
   "cell_type": "code",
   "execution_count": null,
   "metadata": {},
   "outputs": [
    {
     "data": {
      "text/plain": [
       "622870"
      ]
     },
     "execution_count": 5,
     "metadata": {},
     "output_type": "execute_result"
    }
   ],
   "source": [
    "# Total number of tokens across all texts\n",
    "sum([len(word_tokenize(senten)) for senten in all_sentences])"
   ]
  },
  {
   "cell_type": "markdown",
   "metadata": {},
   "source": [
    "### 2 Obtain text chunks and build their embeddings"
   ]
  },
  {
   "cell_type": "code",
   "execution_count": null,
   "metadata": {},
   "outputs": [
    {
     "data": {
      "application/vnd.jupyter.widget-view+json": {
       "model_id": "b6011450b0744d11a708d1104a76d7ae",
       "version_major": 2,
       "version_minor": 0
      },
      "text/plain": [
       "  0%|          | 0/16 [00:00<?, ?it/s]"
      ]
     },
     "metadata": {},
     "output_type": "display_data"
    },
    {
     "name": "stdout",
     "output_type": "stream",
     "text": [
      "0\n",
      "Увеличьте максимальное количество токенов в 1 чанке. Длина куска текста 162 токенов\n",
      "Увеличьте максимальное количество токенов в 1 чанке. Длина куска текста 154 токенов\n",
      "1\n",
      "2\n",
      "Увеличьте максимальное количество токенов в 1 чанке. Длина куска текста 171 токенов\n",
      "3\n",
      "Увеличьте максимальное количество токенов в 1 чанке. Длина куска текста 161 токенов\n",
      "Увеличьте максимальное количество токенов в 1 чанке. Длина куска текста 151 токенов\n",
      "Увеличьте максимальное количество токенов в 1 чанке. Длина куска текста 155 токенов\n",
      "Увеличьте максимальное количество токенов в 1 чанке. Длина куска текста 184 токенов\n",
      "Увеличьте максимальное количество токенов в 1 чанке. Длина куска текста 155 токенов\n",
      "Увеличьте максимальное количество токенов в 1 чанке. Длина куска текста 181 токенов\n",
      "4\n",
      "Увеличьте максимальное количество токенов в 1 чанке. Длина куска текста 156 токенов\n",
      "5\n",
      "6\n",
      "7\n",
      "8\n",
      "Увеличьте максимальное количество токенов в 1 чанке. Длина куска текста 157 токенов\n",
      "9\n",
      "Увеличьте максимальное количество токенов в 1 чанке. Длина куска текста 166 токенов\n",
      "Увеличьте максимальное количество токенов в 1 чанке. Длина куска текста 232 токенов\n",
      "Увеличьте максимальное количество токенов в 1 чанке. Длина куска текста 154 токенов\n",
      "Увеличьте максимальное количество токенов в 1 чанке. Длина куска текста 154 токенов\n",
      "Увеличьте максимальное количество токенов в 1 чанке. Длина куска текста 153 токенов\n",
      "Увеличьте максимальное количество токенов в 1 чанке. Длина куска текста 163 токенов\n",
      "Увеличьте максимальное количество токенов в 1 чанке. Длина куска текста 151 токенов\n",
      "Увеличьте максимальное количество токенов в 1 чанке. Длина куска текста 169 токенов\n",
      "Увеличьте максимальное количество токенов в 1 чанке. Длина куска текста 164 токенов\n",
      "Увеличьте максимальное количество токенов в 1 чанке. Длина куска текста 153 токенов\n",
      "Увеличьте максимальное количество токенов в 1 чанке. Длина куска текста 169 токенов\n",
      "Увеличьте максимальное количество токенов в 1 чанке. Длина куска текста 169 токенов\n",
      "Увеличьте максимальное количество токенов в 1 чанке. Длина куска текста 177 токенов\n",
      "10\n",
      "11\n",
      "12\n",
      "Увеличьте максимальное количество токенов в 1 чанке. Длина куска текста 164 токенов\n",
      "13\n",
      "Увеличьте максимальное количество токенов в 1 чанке. Длина куска текста 158 токенов\n",
      "14\n",
      "Увеличьте максимальное количество токенов в 1 чанке. Длина куска текста 166 токенов\n",
      "15\n"
     ]
    }
   ],
   "source": [
    "text_data = df['text'].to_list()\n",
    "text_chunks = []\n",
    "\n",
    "for text, i in tqdm(list(zip(text_data, range(len(text_data))))):\n",
    "    print(i)\n",
    "    model = GetEmbsNPY_Gigachat([text], giga_embeder_kwargs, chunk_max_token_size = 150, overlap_ratio=0.15) # [text] чтобы чанкал по предложениям, иначе будет бить по буквам\n",
    "    cur_embs, cur_text_chunks, cur_ids = model({})\n",
    "    text_chunks.extend(cur_text_chunks)\n",
    "    \n",
    "    l = [cur_text_chunks, cur_ids]\n",
    "    # save\n",
    "    #pd.DataFrame(list(map(list, zip(*l))), columns=['data', 'ids']).to_parquet(f'data/chunks/chunks_{i+1}.parquet')\n",
    "    #np.save(f'data/embs/embs_{i+1}.npy', cur_embs)\n"
   ]
  },
  {
   "cell_type": "code",
   "execution_count": null,
   "metadata": {},
   "outputs": [
    {
     "name": "stdout",
     "output_type": "stream",
     "text": [
      "263\n"
     ]
    },
    {
     "data": {
      "text/plain": [
       "' Документ предоставлен КонсультантПлюс РОССИЙСКАЯ ФЕДЕРАЦИЯ ФЕДЕРАЛЬНЫЙ ЗАКОН О ПРОТИВОДЕЙСТВИИ НЕПРАВОМЕРНОМУ ИСПОЛЬЗОВАНИЮ ИНСАЙДЕРСКОЙ ИНФОРМАЦИИ И МАНИПУЛИРОВАНИЮ РЫНКОМ И О ВНЕСЕНИИ ИЗМЕНЕНИЙ В ОТДЕЛЬНЫЕ ЗАКОНОДАТЕЛЬНЫЕ АКТЫ РОССИЙСКОЙ ФЕДЕРАЦИИ Принят Государственной Думой 2 июля 2010 года Одобрен Советом Федерации 14 июля 2010 года Глава 1. ОБЩИЕ ПОЛОЖЕНИЯ Статья 1. Цель и сфера регулирования настоящего Федерального закона 1. Целью настоящего Федерального закона является обеспечение справедливого ценообразования на финансовые инструменты, иностранную валюту и (или) товары, равенства инвесторов и укрепление доверия инвесторов путем создания правового механизма предотвращения, выявления и пресечения злоупотреблений на организованных торгах в форме неправомерного использования инсайдерской информации и (или) манипулирования рынком. 2.'"
      ]
     },
     "execution_count": 30,
     "metadata": {},
     "output_type": "execute_result"
    }
   ],
   "source": [
    "# check chunks length\n",
    "lengths = []\n",
    "for text in text_chunks:\n",
    "    lengths.append(len(word_tokenize(text)))\n",
    "\n",
    "print(max(lengths))\n",
    "text_chunks[np.argmax(max(lengths))]"
   ]
  },
  {
   "cell_type": "code",
   "execution_count": null,
   "metadata": {},
   "outputs": [
    {
     "data": {
      "text/plain": [
       "756690"
      ]
     },
     "execution_count": 31,
     "metadata": {},
     "output_type": "execute_result"
    }
   ],
   "source": [
    "# Count total tokens (should exceed the original text because of overlapping chunks\n",
    "text_chunks = [chunks for chunks in text_chunks if len(chunks)>0]\n",
    "sum([len(word_tokenize(text)) for text in text_chunks])"
   ]
  },
  {
   "cell_type": "markdown",
   "metadata": {},
   "source": [
    "### 3 Store computed embeddings in the Qdrant vector database"
   ]
  },
  {
   "cell_type": "code",
   "execution_count": null,
   "metadata": {},
   "outputs": [],
   "source": [
    "# Upload data to Qdrant in a loop (batch-wise)\n",
    "\n",
    "def send_to_qdrant(input_path = r'data', collection_name = 'moex'):\n",
    "    texts_list = os.listdir(input_path + '/chunks')\n",
    "    embs_list = os.listdir(input_path + '/embs')\n",
    "\n",
    "    for text_name, emb_name in tqdm(list(zip(texts_list, embs_list))): \n",
    "        global df_cur;\n",
    "        df_cur = pd.read_parquet(input_path + '/chunks/' + text_name)\n",
    "        df_cur = df_cur.rename({'index': 'ids'}, axis = 'columns')\n",
    "\n",
    "        text_data = df_cur['data'].tolist() # texts\n",
    "        metadata_ids = df_cur['ids'].tolist() # the rest info\n",
    "\n",
    "        PostEmbsQdrant(input_path + '/embs/' + emb_name, \n",
    "                       text_data=text_data,\n",
    "                       metadata_ids=metadata_ids,\n",
    "                       collection_name=collection_name,\n",
    "                       client_url='http://localhost:6333')()"
   ]
  },
  {
   "cell_type": "code",
   "execution_count": null,
   "metadata": {},
   "outputs": [
    {
     "data": {
      "application/vnd.jupyter.widget-view+json": {
       "model_id": "487545ed37f044059e471b8a641e9593",
       "version_major": 2,
       "version_minor": 0
      },
      "text/plain": [
       "  0%|          | 0/16 [00:00<?, ?it/s]"
      ]
     },
     "metadata": {},
     "output_type": "display_data"
    },
    {
     "data": {
      "application/vnd.jupyter.widget-view+json": {
       "model_id": "3a7e261fdb0147beabfe4501bf33fc84",
       "version_major": 2,
       "version_minor": 0
      },
      "text/plain": [
       "  0%|          | 0/1 [00:00<?, ?it/s]"
      ]
     },
     "metadata": {},
     "output_type": "display_data"
    },
    {
     "name": "stdout",
     "output_type": "stream",
     "text": [
      "Файлы успешно добавлены в базу, примерно 2112 строк наблюдений влезет в 25 мегабайт\n"
     ]
    },
    {
     "data": {
      "application/vnd.jupyter.widget-view+json": {
       "model_id": "130cf5fd31cf45d2969dd5fc9bbca053",
       "version_major": 2,
       "version_minor": 0
      },
      "text/plain": [
       "  0%|          | 0/1 [00:00<?, ?it/s]"
      ]
     },
     "metadata": {},
     "output_type": "display_data"
    },
    {
     "name": "stdout",
     "output_type": "stream",
     "text": [
      "Файлы успешно добавлены в базу, примерно 2783 строк наблюдений влезет в 25 мегабайт\n"
     ]
    },
    {
     "data": {
      "application/vnd.jupyter.widget-view+json": {
       "model_id": "40e0437da91340d19e7c2039875b4047",
       "version_major": 2,
       "version_minor": 0
      },
      "text/plain": [
       "  0%|          | 0/1 [00:00<?, ?it/s]"
      ]
     },
     "metadata": {},
     "output_type": "display_data"
    },
    {
     "name": "stdout",
     "output_type": "stream",
     "text": [
      "Файлы успешно добавлены в базу, примерно 2777 строк наблюдений влезет в 25 мегабайт\n"
     ]
    },
    {
     "data": {
      "application/vnd.jupyter.widget-view+json": {
       "model_id": "52e2669a0e8145f19d88251ec9b4ef39",
       "version_major": 2,
       "version_minor": 0
      },
      "text/plain": [
       "  0%|          | 0/1 [00:00<?, ?it/s]"
      ]
     },
     "metadata": {},
     "output_type": "display_data"
    },
    {
     "name": "stdout",
     "output_type": "stream",
     "text": [
      "Файлы успешно добавлены в базу, примерно 2792 строк наблюдений влезет в 25 мегабайт\n"
     ]
    },
    {
     "data": {
      "application/vnd.jupyter.widget-view+json": {
       "model_id": "9aaa1629eade4f6e8e2f9e7bacf0d89f",
       "version_major": 2,
       "version_minor": 0
      },
      "text/plain": [
       "  0%|          | 0/1 [00:00<?, ?it/s]"
      ]
     },
     "metadata": {},
     "output_type": "display_data"
    },
    {
     "name": "stdout",
     "output_type": "stream",
     "text": [
      "Файлы успешно добавлены в базу, примерно 2512 строк наблюдений влезет в 25 мегабайт\n"
     ]
    },
    {
     "data": {
      "application/vnd.jupyter.widget-view+json": {
       "model_id": "d749771b47ce4b14ad824e402e8abe9b",
       "version_major": 2,
       "version_minor": 0
      },
      "text/plain": [
       "  0%|          | 0/1 [00:00<?, ?it/s]"
      ]
     },
     "metadata": {},
     "output_type": "display_data"
    },
    {
     "name": "stdout",
     "output_type": "stream",
     "text": [
      "Файлы успешно добавлены в базу, примерно 3158 строк наблюдений влезет в 25 мегабайт\n"
     ]
    },
    {
     "data": {
      "application/vnd.jupyter.widget-view+json": {
       "model_id": "7049f1f227cd4b1eb1427148ad8324d4",
       "version_major": 2,
       "version_minor": 0
      },
      "text/plain": [
       "  0%|          | 0/1 [00:00<?, ?it/s]"
      ]
     },
     "metadata": {},
     "output_type": "display_data"
    },
    {
     "name": "stdout",
     "output_type": "stream",
     "text": [
      "Файлы успешно добавлены в базу, примерно 2425 строк наблюдений влезет в 25 мегабайт\n"
     ]
    },
    {
     "data": {
      "application/vnd.jupyter.widget-view+json": {
       "model_id": "579b6026f6084676b98c371e1f0ccafe",
       "version_major": 2,
       "version_minor": 0
      },
      "text/plain": [
       "  0%|          | 0/1 [00:00<?, ?it/s]"
      ]
     },
     "metadata": {},
     "output_type": "display_data"
    },
    {
     "name": "stdout",
     "output_type": "stream",
     "text": [
      "Файлы успешно добавлены в базу, примерно 500 строк наблюдений влезет в 25 мегабайт\n"
     ]
    },
    {
     "data": {
      "application/vnd.jupyter.widget-view+json": {
       "model_id": "c155a7f35a834755a1257445c42fa62a",
       "version_major": 2,
       "version_minor": 0
      },
      "text/plain": [
       "  0%|          | 0/1 [00:00<?, ?it/s]"
      ]
     },
     "metadata": {},
     "output_type": "display_data"
    },
    {
     "name": "stdout",
     "output_type": "stream",
     "text": [
      "Файлы успешно добавлены в базу, примерно 600 строк наблюдений влезет в 25 мегабайт\n"
     ]
    },
    {
     "data": {
      "application/vnd.jupyter.widget-view+json": {
       "model_id": "68d5355ea6dd45b6831f7ee7d99eafd5",
       "version_major": 2,
       "version_minor": 0
      },
      "text/plain": [
       "  0%|          | 0/1 [00:00<?, ?it/s]"
      ]
     },
     "metadata": {},
     "output_type": "display_data"
    },
    {
     "name": "stdout",
     "output_type": "stream",
     "text": [
      "Файлы успешно добавлены в базу, примерно 1862 строк наблюдений влезет в 25 мегабайт\n"
     ]
    },
    {
     "data": {
      "application/vnd.jupyter.widget-view+json": {
       "model_id": "899f5a08475a4e049dc1b7242131cc9f",
       "version_major": 2,
       "version_minor": 0
      },
      "text/plain": [
       "  0%|          | 0/1 [00:00<?, ?it/s]"
      ]
     },
     "metadata": {},
     "output_type": "display_data"
    },
    {
     "name": "stdout",
     "output_type": "stream",
     "text": [
      "Файлы успешно добавлены в базу, примерно 2893 строк наблюдений влезет в 25 мегабайт\n"
     ]
    },
    {
     "data": {
      "application/vnd.jupyter.widget-view+json": {
       "model_id": "fefa5cd3cb684fb69d6b39cd7bb864d9",
       "version_major": 2,
       "version_minor": 0
      },
      "text/plain": [
       "  0%|          | 0/1 [00:00<?, ?it/s]"
      ]
     },
     "metadata": {},
     "output_type": "display_data"
    },
    {
     "name": "stdout",
     "output_type": "stream",
     "text": [
      "Файлы успешно добавлены в базу, примерно 350 строк наблюдений влезет в 25 мегабайт\n"
     ]
    },
    {
     "data": {
      "application/vnd.jupyter.widget-view+json": {
       "model_id": "fc8460749e934b24b16287783e76ac03",
       "version_major": 2,
       "version_minor": 0
      },
      "text/plain": [
       "  0%|          | 0/1 [00:00<?, ?it/s]"
      ]
     },
     "metadata": {},
     "output_type": "display_data"
    },
    {
     "name": "stdout",
     "output_type": "stream",
     "text": [
      "Файлы успешно добавлены в базу, примерно 725 строк наблюдений влезет в 25 мегабайт\n"
     ]
    },
    {
     "data": {
      "application/vnd.jupyter.widget-view+json": {
       "model_id": "e1acec9c009f4d509f2e8a457e414bfe",
       "version_major": 2,
       "version_minor": 0
      },
      "text/plain": [
       "  0%|          | 0/1 [00:00<?, ?it/s]"
      ]
     },
     "metadata": {},
     "output_type": "display_data"
    },
    {
     "name": "stdout",
     "output_type": "stream",
     "text": [
      "Файлы успешно добавлены в базу, примерно 575 строк наблюдений влезет в 25 мегабайт\n"
     ]
    },
    {
     "data": {
      "application/vnd.jupyter.widget-view+json": {
       "model_id": "272a608068e4438ba10edcc9a2c1c63f",
       "version_major": 2,
       "version_minor": 0
      },
      "text/plain": [
       "  0%|          | 0/1 [00:00<?, ?it/s]"
      ]
     },
     "metadata": {},
     "output_type": "display_data"
    },
    {
     "name": "stdout",
     "output_type": "stream",
     "text": [
      "Файлы успешно добавлены в базу, примерно 175 строк наблюдений влезет в 25 мегабайт\n"
     ]
    },
    {
     "data": {
      "application/vnd.jupyter.widget-view+json": {
       "model_id": "416a008e09294f10a19b7b7087c5f7d9",
       "version_major": 2,
       "version_minor": 0
      },
      "text/plain": [
       "  0%|          | 0/1 [00:00<?, ?it/s]"
      ]
     },
     "metadata": {},
     "output_type": "display_data"
    },
    {
     "name": "stdout",
     "output_type": "stream",
     "text": [
      "Файлы успешно добавлены в базу, примерно 2058 строк наблюдений влезет в 25 мегабайт\n"
     ]
    }
   ],
   "source": [
    "# Send to Qdrant\n",
    "send_to_qdrant(input_path = r'data', collection_name = 'moex')"
   ]
  },
  {
   "cell_type": "markdown",
   "metadata": {},
   "source": [
    "### 4 Retriever"
   ]
  },
  {
   "cell_type": "code",
   "execution_count": null,
   "metadata": {},
   "outputs": [],
   "source": [
    "# Set up the assistant instance\n",
    "\n",
    "# Initialize the embedder for the user query (Gigachat)\n",
    "embedder_inited_cls = GigaChatEmbeddings(**giga_embeder_kwargs)\n",
    "\n",
    "talk2db = Talk2DB(collection_name=read_config['DB_CONFIG']['collection_name'],\n",
    "                  embedder_inited_cls=embedder_inited_cls,\n",
    "                  payload_key=read_config['DB_CONFIG']['payload_key'],\n",
    "                  query_prompt=read_config['PROMPT_CONFIG']['query_prompt'],\n",
    "                  response_prompt=read_config['PROMPT_CONFIG']['response_prompt'],\n",
    "                  num_queries=int(read_config['PROMPT_CONFIG']['num_queries']),\n",
    "                  max_context_length=int(read_config['PROMPT_CONFIG']['max_context_length']))\n",
    "\n",
    "llm = GigaChat(max_tokens = 500,\n",
    "                temperature = 1.2,\n",
    "               **giga_chat_kwargs)"
   ]
  },
  {
   "cell_type": "markdown",
   "metadata": {},
   "source": [
    "## TEST"
   ]
  },
  {
   "cell_type": "code",
   "execution_count": null,
   "metadata": {},
   "outputs": [
    {
     "name": "stderr",
     "output_type": "stream",
     "text": [
      "c:\\Programming\\venvs\\telegram_news\\Lib\\site-packages\\langchain_core\\_api\\deprecation.py:139: LangChainDeprecationWarning: The method `BaseRetriever.get_relevant_documents` was deprecated in langchain-core 0.1.46 and will be removed in 0.3.0. Use invoke instead.\n",
      "  warn_deprecated(\n"
     ]
    }
   ],
   "source": [
    "# Execute the query and inspect the returned result\n",
    "# Ensure that the Qdrant server is up and running\n",
    "answer, retrieved_chunks, original_query, formulated_query = await talk2db.get_response('Какими бумагами можно торговать на моосковской бирже?', llm, history = [])"
   ]
  },
  {
   "cell_type": "code",
   "execution_count": null,
   "metadata": {},
   "outputs": [
    {
     "data": {
      "text/plain": [
       "('Ценные бумаги иностранного эмитента, соответствующие определенным требованиям, могут быть допущены к организованным торгам на Московской бирже без заключения договора с эмитентом. Однако, если эти ценные бумаги не были допущены к публичному размещению и обращению в РФ, они должны соответствовать требованиям и ограничениям, установленным законодательством для ценных бумаг, предназначенных для квалифицированных инвесторов. Кроме того, Банк России имеет право определять основные списки иностранных бирж, включение в которые является условием для допуска ценных бумаг к торговле на Московской бирже [Контекст].',\n",
       " [' Ценные бумаги иностранного эмитента, соответствующие требованиям пунктов 1 и 2 настоящей статьи, могут быть допущены к публичному обращению в Российской Федерации по решению российского организатора торговли об их допуске к организованным торгам без заключения договора с указанным эмитентом, если ценные бумаги иностранного эмитента одновременно соответствуют следующим условиям: 1) допускаются к организованным торгам без их включения в котировальный список; 2) начата или завершена процедура включения в основной (официальный) список ценных бумаг иностранной биржи, соответствующей критериям, указанным в пункте 4 настоящей статьи. Банк России вправе определить основные (официальные) списки иностранных бирж, включение в которые является условием для допуска ценных бумаг к публичному обращению в Российской Федерации; (пп. 2 в ред. Федерального закона от 27.12.2018 N 514-ФЗ)',\n",
       "  ' Если ценные бумаги иностранных эмитентов не допущены к публичному размещению и (или) публичному обращению в Российской Федерации в соответствии с настоящей статьей, то на размещение и обращение таких ценных бумаг распространяются требования и ограничения, установленные настоящим Федеральным законом для размещения и обращения ценных бумаг, предназначенных для квалифицированных инвесторов. (в ред. Федерального закона от 31.07.2020 N 306-ФЗ) Ценные бумаги иностранных эмитентов, указанные в абзаце первом настоящего пункта и соответствующие требованиям пунктов 1 и 2 настоящей статьи, могут быть допущены к организованным торгам на российской бирже в процессе их размещения и (или) обращения среди квалифицированных инвесторов в соответствии с правилами российской биржи. Регистрация и предоставление проспектов таких ценных бумаг иностранных эмитентов при этом не требуются. Указанные организованные торги не являются публичным размещением и (или) публичным обращением ценных бумаг. (в ред.',\n",
       "  ' В случае если представляемыми ценными бумагами являются акции, публичное предложение которых (публичное предложение ценных бумаг иностранных эмитентов, удостоверяющих права в отношении которых) осуществляется впервые и сведения об эмитенте представляемых акций, содержащиеся в документе (проспекте, меморандуме, ином документе), представляемом иностранной бирже, соответствующей критериям, устанавливаемым Банком России в соответствии с пунктом 4 статьи 27.5-3 Федерального закона \"О рынке ценных бумаг\", для прохождения представляемыми акциями (ценными бумагами иностранных эмитентов, удостоверяющими права в отношении представляемых акций) процедуры листинга, не являются в соответствии с личным законом эмитента представляемых ценных бумаг и правилами иностранной биржи общедоступными на дату утверждения проспекта российских депозитарных расписок и подлежат раскрытию после утверждения проспекта российских депозитарных расписок, вместо сведений об эмитенте представляемых акций в проспекте российских депозитарных расписок может быть указан порядок раскрытия таких сведений. Сведения, предусмотренные настоящим пунктом, могут быть включены в проспект ценных бумаг в качестве отдельного приложения.'],\n",
       " 'Какими бумагами можно торговать на моосковской бирже?',\n",
       " ['Какие ценные бумаги доступны для торговли на Московской бирже?'])"
      ]
     },
     "execution_count": 8,
     "metadata": {},
     "output_type": "execute_result"
    }
   ],
   "source": [
    "answer, retrieved_chunks, original_query, formulated_query"
   ]
  },
  {
   "cell_type": "code",
   "execution_count": null,
   "metadata": {},
   "outputs": [
    {
     "name": "stdout",
     "output_type": "stream",
     "text": [
      "User: сколько всего нормативных актов на мосбирже\n",
      "Bot: согласно последней документации - 16\n",
      "User: какая средняя длина данных документов\n",
      "Bot: в среднем один документ состоит из 15 страниц\n"
     ]
    },
    {
     "data": {
      "text/plain": [
       "('На Московской бирже можно торговать различными видами ценных бумаг, включая акции, облигации, паи инвестиционных фондов, депозитарные расписки и другие финансовые инструменты.',\n",
       " [' Ценные бумаги иностранного эмитента, соответствующие требованиям пунктов 1 и 2 настоящей статьи, могут быть допущены к публичному обращению в Российской Федерации по решению российского организатора торговли об их допуске к организованным торгам без заключения договора с указанным эмитентом, если ценные бумаги иностранного эмитента одновременно соответствуют следующим условиям: 1) допускаются к организованным торгам без их включения в котировальный список; 2) начата или завершена процедура включения в основной (официальный) список ценных бумаг иностранной биржи, соответствующей критериям, указанным в пункте 4 настоящей статьи. Банк России вправе определить основные (официальные) списки иностранных бирж, включение в которые является условием для допуска ценных бумаг к публичному обращению в Российской Федерации; (пп. 2 в ред. Федерального закона от 27.12.2018 N 514-ФЗ)',\n",
       "  ' Если ценные бумаги иностранных эмитентов не допущены к публичному размещению и (или) публичному обращению в Российской Федерации в соответствии с настоящей статьей, то на размещение и обращение таких ценных бумаг распространяются требования и ограничения, установленные настоящим Федеральным законом для размещения и обращения ценных бумаг, предназначенных для квалифицированных инвесторов. (в ред. Федерального закона от 31.07.2020 N 306-ФЗ) Ценные бумаги иностранных эмитентов, указанные в абзаце первом настоящего пункта и соответствующие требованиям пунктов 1 и 2 настоящей статьи, могут быть допущены к организованным торгам на российской бирже в процессе их размещения и (или) обращения среди квалифицированных инвесторов в соответствии с правилами российской биржи. Регистрация и предоставление проспектов таких ценных бумаг иностранных эмитентов при этом не требуются. Указанные организованные торги не являются публичным размещением и (или) публичным обращением ценных бумаг. (в ред.',\n",
       "  ' В случае если представляемыми ценными бумагами являются акции, публичное предложение которых (публичное предложение ценных бумаг иностранных эмитентов, удостоверяющих права в отношении которых) осуществляется впервые и сведения об эмитенте представляемых акций, содержащиеся в документе (проспекте, меморандуме, ином документе), представляемом иностранной бирже, соответствующей критериям, устанавливаемым Банком России в соответствии с пунктом 4 статьи 27.5-3 Федерального закона \"О рынке ценных бумаг\", для прохождения представляемыми акциями (ценными бумагами иностранных эмитентов, удостоверяющими права в отношении представляемых акций) процедуры листинга, не являются в соответствии с личным законом эмитента представляемых ценных бумаг и правилами иностранной биржи общедоступными на дату утверждения проспекта российских депозитарных расписок и подлежат раскрытию после утверждения проспекта российских депозитарных расписок, вместо сведений об эмитенте представляемых акций в проспекте российских депозитарных расписок может быть указан порядок раскрытия таких сведений. Сведения, предусмотренные настоящим пунктом, могут быть включены в проспект ценных бумаг в качестве отдельного приложения.'],\n",
       " 'Какими бумагами можно торговать на моосковской бирже?',\n",
       " ['Какие виды ценных бумаг доступны для торговли на Московской бирже?'])"
      ]
     },
     "execution_count": 9,
     "metadata": {},
     "output_type": "execute_result"
    }
   ],
   "source": [
    "# Demonstration with conversation history included\n",
    "history = [('сколько всего нормативных актов на мосбирже', 'согласно последней документации - 16'), ('какая средняя длина данных документов', 'в среднем один документ состоит из 15 страниц'), ('содержится ли информация в них о евробондах','')]\n",
    "print(\"\\n\".join([f\"User: {user_msg}\\nBot: {bot_resp}\" for user_msg, bot_resp in history if bot_resp]))\n",
    "\n",
    "answer, context, original_query, formulated_query = await talk2db.get_response('Какими бумагами можно торговать на моосковской бирже?', llm, history = history)\n",
    "answer, context, original_query, formulated_query"
   ]
  }
 ],
 "metadata": {
  "kernelspec": {
   "display_name": "telegram_news",
   "language": "python",
   "name": "python3"
  },
  "language_info": {
   "codemirror_mode": {
    "name": "ipython",
    "version": 3
   },
   "file_extension": ".py",
   "mimetype": "text/x-python",
   "name": "python",
   "nbconvert_exporter": "python",
   "pygments_lexer": "ipython3",
   "version": "3.11.5"
  }
 },
 "nbformat": 4,
 "nbformat_minor": 2
}
